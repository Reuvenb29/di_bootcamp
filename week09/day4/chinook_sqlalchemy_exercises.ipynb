{
 "cells": [
  {
   "cell_type": "markdown",
   "id": "5f0df005",
   "metadata": {},
   "source": [
    "# Chinook Database Exploration with SQLAlchemy & pandas\n",
    "\n",
    "This notebook walks through the exercises using **SQLAlchemy** (Core + ORM) and **pandas** against the classic **Chinook** SQLite database.\n",
    "\n",
    "> **How to run:**  \n",
    "> 1) Ensure you have **sqlalchemy**, **pandas**, and **ipython** installed.  \n",
    "> 2) Place `chinook.db` in the **same folder** as this notebook (or edit `DB_PATH` below).  \n",
    "> 3) Run cells top-to-bottom.\n",
    "\n",
    "We will:\n",
    "- Connect to the database using SQLAlchemy\n",
    "- Reflect the existing schema\n",
    "- Execute basic SQL queries\n",
    "- Use the ORM for joins\n",
    "- Fetch results into pandas for display/analysis\n"
   ]
  },
  {
   "cell_type": "code",
   "execution_count": null,
   "id": "b0727f8f",
   "metadata": {},
   "outputs": [],
   "source": [
    "# 🔧 Setup\n",
    "# If needed, install packages in your environment (uncomment if running locally)\n",
    "# !pip install sqlalchemy pandas ipython\n",
    "\n",
    "import os\n",
    "import pandas as pd\n",
    "import sqlalchemy\n",
    "from sqlalchemy import create_engine, inspect, func\n",
    "from sqlalchemy.orm import sessionmaker\n",
    "from sqlalchemy.ext.automap import automap_base\n",
    "\n",
    "print('pandas:', pd.__version__)\n",
    "print('sqlalchemy:', sqlalchemy.__version__)"
   ]
  },
  {
   "cell_type": "code",
   "execution_count": null,
   "id": "ac9cb6c5",
   "metadata": {},
   "outputs": [],
   "source": [
    "# 🔗 Paths\n",
    "DB_PATH = 'chinook.db'  # change this if your DB is elsewhere\n",
    "\n",
    "assert os.path.exists(DB_PATH), f'Could not find {DB_PATH}. Place the file next to this notebook or update DB_PATH.'"
   ]
  },
  {
   "cell_type": "markdown",
   "id": "22c1e01c",
   "metadata": {},
   "source": [
    "## Helper functions (display SQL/pandas results neatly)"
   ]
  },
  {
   "cell_type": "code",
   "execution_count": null,
   "id": "8f4e3215",
   "metadata": {},
   "outputs": [],
   "source": [
    "from IPython.display import display\n",
    "\n",
    "def sql(query):\n",
    "    print()\n",
    "    print(query)\n",
    "    print()\n",
    "\n",
    "def get_results(query_or_statement, engine):\n",
    "    \"\"\"Accepts an ORM Query, a SQLAlchemy Core statement, or a raw SQL string.\"\"\"\n",
    "    if hasattr(query_or_statement, 'statement'):  # ORM Query\n",
    "        q = query_or_statement.statement\n",
    "    else:\n",
    "        q = query_or_statement\n",
    "    return pd.read_sql(q, engine)\n",
    "\n",
    "def display_results(query_or_statement, engine):\n",
    "    df = get_results(query_or_statement, engine)\n",
    "    display(df)\n",
    "    sql(query_or_statement)"
   ]
  },
  {
   "cell_type": "markdown",
   "id": "adaaf402",
   "metadata": {},
   "source": [
    "## Exercise 1 — Open the database & reflect schema"
   ]
  },
  {
   "cell_type": "code",
   "execution_count": null,
   "id": "f4f838e5",
   "metadata": {},
   "outputs": [],
   "source": [
    "# Create the engine and test a connection\n",
    "engine = create_engine(f'sqlite:///{DB_PATH}', future=True)\n",
    "with engine.connect() as conn:\n",
    "    print('Connected OK:', conn)\n",
    "\n",
    "# Reflect schema metadata\n",
    "metadata = sqlalchemy.MetaData()\n",
    "metadata.reflect(engine)\n",
    "\n",
    "# Automap ORM classes\n",
    "Base = automap_base(metadata=metadata)\n",
    "Base.prepare()\n",
    "\n",
    "# Create a Session\n",
    "Session = sessionmaker(bind=engine, future=True)\n",
    "session = Session()\n",
    "\n",
    "# Small helper to list mapped classes\n",
    "def mapped_classes_dict():\n",
    "    out = {}\n",
    "    for name, obj in Base.classes.__dict__.items():\n",
    "        if not name.startswith('_') and hasattr(obj, '__table__'):\n",
    "            out[obj.__table__.name] = obj\n",
    "    return out\n",
    "\n",
    "mapped = mapped_classes_dict()\n",
    "print('Mapped tables -> ORM classes:')\n",
    "for t, cls in sorted(mapped.items()):\n",
    "    print(f'  {t:15s} -> {cls.__name__}')"
   ]
  },
  {
   "cell_type": "markdown",
   "id": "7a82916d",
   "metadata": {},
   "source": [
    "## Exercise 2 — Table names"
   ]
  },
  {
   "cell_type": "code",
   "execution_count": null,
   "id": "a0c824a3",
   "metadata": {},
   "outputs": [],
   "source": [
    "inspector = inspect(engine)\n",
    "tables = inspector.get_table_names()\n",
    "print('Tables:', tables)"
   ]
  },
  {
   "cell_type": "markdown",
   "id": "83f248fd",
   "metadata": {},
   "source": [
    "## Exercise 3 — Tracks (first three rows)"
   ]
  },
  {
   "cell_type": "code",
   "execution_count": null,
   "id": "bfc7c638",
   "metadata": {},
   "outputs": [],
   "source": [
    "Tracks = mapped['tracks']  # ORM class for the tracks table\n",
    "q = session.query(Tracks).limit(3)\n",
    "display_results(q, engine)"
   ]
  },
  {
   "cell_type": "markdown",
   "id": "56d154a7",
   "metadata": {},
   "source": [
    "## Exercise 4 — Track name and album title for first 20 tracks"
   ]
  },
  {
   "cell_type": "code",
   "execution_count": null,
   "id": "e005f553",
   "metadata": {},
   "outputs": [],
   "source": [
    "Albums = mapped['albums']\n",
    "q = (session.query(Tracks.Name.label('TrackName'), Albums.Title.label('AlbumTitle'))\n",
    "     .join(Albums, Tracks.AlbumId == Albums.AlbumId)\n",
    "     .order_by(Tracks.TrackId.asc())\n",
    "     .limit(20))\n",
    "display_results(q, engine)"
   ]
  },
  {
   "cell_type": "markdown",
   "id": "64c33d87",
   "metadata": {},
   "source": [
    "## Exercise 5 — First 10 track sales from invoice_items (with track names & quantities)"
   ]
  },
  {
   "cell_type": "code",
   "execution_count": null,
   "id": "52999d86",
   "metadata": {},
   "outputs": [],
   "source": [
    "InvoiceItems = mapped['invoice_items']\n",
    "\n",
    "q = (session.query(InvoiceItems.InvoiceLineId,\n",
    "                   InvoiceItems.InvoiceId,\n",
    "                   Tracks.Name.label('TrackName'),\n",
    "                   InvoiceItems.Quantity,\n",
    "                   InvoiceItems.UnitPrice)\n",
    "     .join(Tracks, Tracks.TrackId == InvoiceItems.TrackId)\n",
    "     .order_by(InvoiceItems.InvoiceLineId.asc())\n",
    "     .limit(10))\n",
    "display_results(q, engine)"
   ]
  },
  {
   "cell_type": "markdown",
   "id": "9aec2d84",
   "metadata": {},
   "source": [
    "## Exercise 6 — Top 10 tracks sold (by total quantity)"
   ]
  },
  {
   "cell_type": "code",
   "execution_count": null,
   "id": "f269282a",
   "metadata": {},
   "outputs": [],
   "source": [
    "q = (session.query(Tracks.Name.label('TrackName'),\n",
    "                   func.sum(InvoiceItems.Quantity).label('TotalSold'))\n",
    "     .join(InvoiceItems, Tracks.TrackId == InvoiceItems.TrackId)\n",
    "     .group_by(Tracks.TrackId, Tracks.Name)\n",
    "     .order_by(func.sum(InvoiceItems.Quantity).desc())\n",
    "     .limit(10))\n",
    "display_results(q, engine)"
   ]
  },
  {
   "cell_type": "markdown",
   "id": "625bb72c",
   "metadata": {},
   "source": [
    "## Exercise 7 — Top 10 highest-selling artists (by total track quantities)"
   ]
  },
  {
   "cell_type": "code",
   "execution_count": null,
   "id": "f140b7fa",
   "metadata": {},
   "outputs": [],
   "source": [
    "Artists = mapped['artists']\n",
    "Albums = mapped['albums']  # ensure defined\n",
    "\n",
    "q = (session.query(Artists.Name.label('ArtistName'),\n",
    "                   func.sum(InvoiceItems.Quantity).label('TotalSold'))\n",
    "     .join(Albums, Artists.ArtistId == Albums.ArtistId)\n",
    "     .join(Tracks, Tracks.AlbumId == Albums.AlbumId)\n",
    "     .join(InvoiceItems, InvoiceItems.TrackId == Tracks.TrackId)\n",
    "     .group_by(Artists.ArtistId, Artists.Name)\n",
    "     .order_by(func.sum(InvoiceItems.Quantity).desc())\n",
    "     .limit(10))\n",
    "display_results(q, engine)"
   ]
  },
  {
   "cell_type": "markdown",
   "id": "27f75466",
   "metadata": {},
   "source": [
    "---\n",
    "### Bonus: Using pandas-only SQL (optional)\n",
    "You can also use `pd.read_sql` with raw SQL strings. For example:\n",
    "\n",
    "```python\n",
    "pd.read_sql(\"\"\"\n",
    "SELECT t.Name AS TrackName, SUM(ii.Quantity) AS TotalSold\n",
    "FROM invoice_items AS ii\n",
    "JOIN tracks AS t ON t.TrackId = ii.TrackId\n",
    "GROUP BY t.TrackId, t.Name\n",
    "ORDER BY TotalSold DESC\n",
    "LIMIT 10;\n",
    "\"\"\", engine)\n",
    "```\n"
   ]
  }
 ],
 "metadata": {},
 "nbformat": 4,
 "nbformat_minor": 5
}
