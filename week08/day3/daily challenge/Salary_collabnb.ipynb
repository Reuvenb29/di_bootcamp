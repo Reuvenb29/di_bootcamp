{
  "nbformat": 4,
  "nbformat_minor": 0,
  "metadata": {
    "colab": {
      "provenance": []
    },
    "kernelspec": {
      "name": "python3",
      "display_name": "Python 3"
    },
    "language_info": {
      "name": "python"
    }
  },
  "cells": [
    {
      "cell_type": "markdown",
      "source": [
        "Excersise 1"
      ],
      "metadata": {
        "id": "kPiK7sq60rxm"
      }
    },
    {
      "cell_type": "code",
      "execution_count": 1,
      "metadata": {
        "colab": {
          "base_uri": "https://localhost:8080/"
        },
        "collapsed": true,
        "id": "btJtM_bg0QB1",
        "outputId": "3efbb13c-d85b-4d04-ef9f-5fda89f1107b"
      },
      "outputs": [
        {
          "output_type": "stream",
          "name": "stdout",
          "text": [
            "   Unnamed: 0  work_year experience_level employment_type  \\\n",
            "0           0       2020               MI              FT   \n",
            "1           1       2020               SE              FT   \n",
            "2           2       2020               SE              FT   \n",
            "3           3       2020               MI              FT   \n",
            "4           4       2020               SE              FT   \n",
            "\n",
            "                    job_title  salary salary_currency  salary_in_usd  \\\n",
            "0              Data Scientist   70000             EUR          79833   \n",
            "1  Machine Learning Scientist  260000             USD         260000   \n",
            "2           Big Data Engineer   85000             GBP         109024   \n",
            "3        Product Data Analyst   20000             USD          20000   \n",
            "4   Machine Learning Engineer  150000             USD         150000   \n",
            "\n",
            "  employee_residence  remote_ratio company_location company_size  \n",
            "0                 DE             0               DE            L  \n",
            "1                 JP             0               JP            S  \n",
            "2                 GB            50               GB            M  \n",
            "3                 HN             0               HN            S  \n",
            "4                 US            50               US            L  \n"
          ]
        }
      ],
      "source": [
        "# prompt: can you load this file for analysis\n",
        "# /content/drive/MyDrive/Colab Notebooks/Di Bootcamp files/ds_salaries.csv\n",
        "\n",
        "import pandas as pd\n",
        "\n",
        "df = pd.read_csv('/content/drive/MyDrive/Colab Notebooks/Di Bootcamp files/ds_salaries.csv')\n",
        "print(df.head())"
      ]
    },
    {
      "cell_type": "code",
      "source": [
        "df.head()\n",
        "df.info()\n",
        "df.describe()\n",
        "print(\"Missing values:\\n\", df.isnull().sum())\n",
        "print(\"Duplicates:\", df.duplicated().sum())\n"
      ],
      "metadata": {
        "colab": {
          "base_uri": "https://localhost:8080/"
        },
        "id": "JeGtjUVO045m",
        "outputId": "ce3f5712-ddc0-43d7-cb58-31128135bfd3"
      },
      "execution_count": 2,
      "outputs": [
        {
          "output_type": "stream",
          "name": "stdout",
          "text": [
            "<class 'pandas.core.frame.DataFrame'>\n",
            "RangeIndex: 607 entries, 0 to 606\n",
            "Data columns (total 12 columns):\n",
            " #   Column              Non-Null Count  Dtype \n",
            "---  ------              --------------  ----- \n",
            " 0   Unnamed: 0          607 non-null    int64 \n",
            " 1   work_year           607 non-null    int64 \n",
            " 2   experience_level    607 non-null    object\n",
            " 3   employment_type     607 non-null    object\n",
            " 4   job_title           607 non-null    object\n",
            " 5   salary              607 non-null    int64 \n",
            " 6   salary_currency     607 non-null    object\n",
            " 7   salary_in_usd       607 non-null    int64 \n",
            " 8   employee_residence  607 non-null    object\n",
            " 9   remote_ratio        607 non-null    int64 \n",
            " 10  company_location    607 non-null    object\n",
            " 11  company_size        607 non-null    object\n",
            "dtypes: int64(5), object(7)\n",
            "memory usage: 57.0+ KB\n",
            "Missing values:\n",
            " Unnamed: 0            0\n",
            "work_year             0\n",
            "experience_level      0\n",
            "employment_type       0\n",
            "job_title             0\n",
            "salary                0\n",
            "salary_currency       0\n",
            "salary_in_usd         0\n",
            "employee_residence    0\n",
            "remote_ratio          0\n",
            "company_location      0\n",
            "company_size          0\n",
            "dtype: int64\n",
            "Duplicates: 0\n"
          ]
        }
      ]
    },
    {
      "cell_type": "markdown",
      "source": [
        "Excersise 2"
      ],
      "metadata": {
        "id": "3R9aE7GZ1A36"
      }
    },
    {
      "cell_type": "code",
      "source": [
        "print(\"Column Data Types:\\n\", df.dtypes)\n"
      ],
      "metadata": {
        "colab": {
          "base_uri": "https://localhost:8080/"
        },
        "id": "5Sn6kPom1DWz",
        "outputId": "9e5a6cab-5fc6-4608-eac9-2b578c33b5b0"
      },
      "execution_count": 3,
      "outputs": [
        {
          "output_type": "stream",
          "name": "stdout",
          "text": [
            "Column Data Types:\n",
            " Unnamed: 0             int64\n",
            "work_year              int64\n",
            "experience_level      object\n",
            "employment_type       object\n",
            "job_title             object\n",
            "salary                 int64\n",
            "salary_currency       object\n",
            "salary_in_usd          int64\n",
            "employee_residence    object\n",
            "remote_ratio           int64\n",
            "company_location      object\n",
            "company_size          object\n",
            "dtype: object\n"
          ]
        }
      ]
    },
    {
      "cell_type": "markdown",
      "source": [
        "Excersise 3"
      ],
      "metadata": {
        "id": "CpppWPOO1HZj"
      }
    },
    {
      "cell_type": "code",
      "source": [
        "# Drop duplicates\n",
        "df.drop_duplicates(inplace=True)\n",
        "\n",
        "# Handle missing values (if any)\n",
        "print(df.isnull().sum())\n",
        "\n",
        "# Example: Drop rows with any nulls\n",
        "df.dropna(inplace=True)\n"
      ],
      "metadata": {
        "colab": {
          "base_uri": "https://localhost:8080/"
        },
        "id": "2jZIVjfC1Ja8",
        "outputId": "dfdc7c07-3085-45d2-e1ae-1a55f27c9fef"
      },
      "execution_count": 4,
      "outputs": [
        {
          "output_type": "stream",
          "name": "stdout",
          "text": [
            "Unnamed: 0            0\n",
            "work_year             0\n",
            "experience_level      0\n",
            "employment_type       0\n",
            "job_title             0\n",
            "salary                0\n",
            "salary_currency       0\n",
            "salary_in_usd         0\n",
            "employee_residence    0\n",
            "remote_ratio          0\n",
            "company_location      0\n",
            "company_size          0\n",
            "dtype: int64\n"
          ]
        }
      ]
    },
    {
      "cell_type": "markdown",
      "source": [
        "Excersise 4"
      ],
      "metadata": {
        "id": "uWo8NJPf1Ne7"
      }
    },
    {
      "cell_type": "code",
      "source": [
        "# Group by experience level and calculate mean and median salaries\n",
        "salary_group = df.groupby('experience_level')['salary_in_usd'].agg(['mean', 'median'])\n",
        "print(salary_group)\n"
      ],
      "metadata": {
        "colab": {
          "base_uri": "https://localhost:8080/"
        },
        "id": "B7NfS6eZ1QT1",
        "outputId": "28d72be5-f761-4c8a-9c72-29caa1b5cc10"
      },
      "execution_count": 5,
      "outputs": [
        {
          "output_type": "stream",
          "name": "stdout",
          "text": [
            "                           mean    median\n",
            "experience_level                         \n",
            "EN                 61643.318182   56500.0\n",
            "EX                199392.038462  171437.5\n",
            "MI                 87996.056338   76940.0\n",
            "SE                138617.292857  135500.0\n"
          ]
        }
      ]
    },
    {
      "cell_type": "markdown",
      "source": [
        "Excersise 5"
      ],
      "metadata": {
        "id": "Zh_2v-Ip1WPX"
      }
    },
    {
      "cell_type": "code",
      "source": [
        "import matplotlib.pyplot as plt\n",
        "\n",
        "# Bar chart of mean salaries\n",
        "salary_group['mean'].plot(kind='bar', color='skyblue', edgecolor='black')\n",
        "\n",
        "plt.title('Average Salary by Experience Level')\n",
        "plt.xlabel('Experience Level')\n",
        "plt.ylabel('Average Salary (USD)')\n",
        "plt.xticks(rotation=0)\n",
        "plt.grid(axis='y', linestyle='--', alpha=0.7)\n",
        "plt.tight_layout()\n",
        "plt.show()\n"
      ],
      "metadata": {
        "colab": {
          "base_uri": "https://localhost:8080/",
          "height": 487
        },
        "id": "IcIbMaKN1X4q",
        "outputId": "123b7d89-1489-4405-f51f-b4d0ce16b91c"
      },
      "execution_count": 6,
      "outputs": [
        {
          "output_type": "display_data",
          "data": {
            "text/plain": [
              "<Figure size 640x480 with 1 Axes>"
            ],
            "image/png": "[encoded data removed]"
          },
          "metadata": {}
        }
      ]
    },
    {
      "cell_type": "code",
      "source": [
        "df.to_csv(\"cleaned_salary_data.csv\", index=False)\n"
      ],
      "metadata": {
        "id": "fPuO-ah-1esp"
      },
      "execution_count": 7,
      "outputs": []
    },
    {
      "cell_type": "code",
      "source": [
        "from google.colab import files\n",
        "files.download(\"cleaned_salary_data.csv\")\n"
      ],
      "metadata": {
        "colab": {
          "base_uri": "https://localhost:8080/",
          "height": 17
        },
        "id": "1H3Yz2a51iym",
        "outputId": "a93c9b95-60dd-486b-f915-46f129c47fee"
      },
      "execution_count": 8,
      "outputs": [
        {
          "output_type": "display_data",
          "data": {
            "text/plain": [
              "<IPython.core.display.Javascript object>"
            ],
            "application/javascript": [
              "\n",
              "    async function download(id, filename, size) {\n",
              "      if (!google.colab.kernel.accessAllowed) {\n",
              "        return;\n",
              "      }\n",
              "      const div = document.createElement('div');\n",
              "      const label = document.createElement('label');\n",
              "      label.textContent = `Downloading \"${filename}\": `;\n",
              "      div.appendChild(label);\n",
              "      const progress = document.createElement('progress');\n",
              "      progress.max = size;\n",
              "      div.appendChild(progress);\n",
              "      document.body.appendChild(div);\n",
              "\n",
              "      const buffers = [];\n",
              "      let downloaded = 0;\n",
              "\n",
              "      const channel = await google.colab.kernel.comms.open(id);\n",
              "      // Send a message to notify the kernel that we're ready.\n",
              "      channel.send({})\n",
              "\n",
              "      for await (const message of channel.messages) {\n",
              "        // Send a message to notify the kernel that we're ready.\n",
              "        channel.send({})\n",
              "        if (message.buffers) {\n",
              "          for (const buffer of message.buffers) {\n",
              "            buffers.push(buffer);\n",
              "            downloaded += buffer.byteLength;\n",
              "            progress.value = downloaded;\n",
              "          }\n",
              "        }\n",
              "      }\n",
              "      const blob = new Blob(buffers, {type: 'application/binary'});\n",
              "      const a = document.createElement('a');\n",
              "      a.href = window.URL.createObjectURL(blob);\n",
              "      a.download = filename;\n",
              "      div.appendChild(a);\n",
              "      a.click();\n",
              "      div.remove();\n",
              "    }\n",
              "  "
            ]
          },
          "metadata": {}
        },
        {
          "output_type": "display_data",
          "data": {
            "text/plain": [
              "<IPython.core.display.Javascript object>"
            ],
            "application/javascript": [
              "download(\"download_225b4e4f-6cdc-4e83-9e99-324769c8b94b\", \"cleaned_salary_data.csv\", 36970)"
            ]
          },
          "metadata": {}
        }
      ]
    }
  ]
}